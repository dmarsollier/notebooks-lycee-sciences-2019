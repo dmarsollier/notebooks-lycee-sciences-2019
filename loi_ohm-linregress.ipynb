{
 "cells": [
  {
   "cell_type": "markdown",
   "metadata": {},
   "source": [
    "# R = 220 Ohm, P = 2W, géné variable (0-30V)"
   ]
  },
  {
   "cell_type": "code",
   "execution_count": 1,
   "metadata": {},
   "outputs": [],
   "source": [
    "U = list(range(11))\n",
    "I = [0, 4.5, 9, 13.6, 18.1, 22.8, 27.3, 31.8, 36.4, 41.4, 45.6]"
   ]
  },
  {
   "cell_type": "code",
   "execution_count": 2,
   "metadata": {},
   "outputs": [],
   "source": [
    "import matplotlib.pyplot as plt\n",
    "from scipy.stats import linregress\n",
    "import numpy as np"
   ]
  },
  {
   "cell_type": "markdown",
   "metadata": {},
   "source": [
    "Ici, on a utilisé la fonction `linregress` pour modéliser, mais en fait je préfère ma solution plus générale avec `curve_fit` (voir [ma doc](modelisation-graphique.html))"
   ]
  },
  {
   "cell_type": "code",
   "execution_count": 3,
   "metadata": {},
   "outputs": [
    {
     "data": {
      "text/plain": [
       "[<matplotlib.lines.Line2D at 0x7fb4fb521b90>]"
      ]
     },
     "execution_count": 3,
     "metadata": {},
     "output_type": "execute_result"
    },
    {
     "data": {
      "image/png": "[encoded data removed]",
      "text/plain": [
       "<Figure size 432x288 with 1 Axes>"
      ]
     },
     "metadata": {
      "needs_background": "light"
     },
     "output_type": "display_data"
    }
   ],
   "source": [
    "plt.plot(I, U , 'r+')\n",
    "plt.xlabel('intensité (mA)')\n",
    "plt.ylabel('tension (V)')\n",
    "\n",
    "coefDir, OrdOrigine, *dechet = linregress(I, U)\n",
    "plt.plot(I, coefDir*np.array(I)+OrdOrigine , 'b-')"
   ]
  },
  {
   "cell_type": "code",
   "execution_count": 4,
   "metadata": {},
   "outputs": [
    {
     "name": "stdout",
     "output_type": "stream",
     "text": [
      "LinregressResult(slope=0.21849889436576372, intercept=0.024184269216016574, rvalue=0.9999651967749381, pvalue=5.066179606182694e-20, stderr=0.0006076647836938722)\n"
     ]
    }
   ],
   "source": [
    "modele = linregress(I, U)\n",
    "\n",
    "print(modele)"
   ]
  },
  {
   "cell_type": "code",
   "execution_count": null,
   "metadata": {},
   "outputs": [],
   "source": []
  }
 ],
 "metadata": {
  "kernelspec": {
   "display_name": "Python 3",
   "language": "python",
   "name": "python3"
  },
  "language_info": {
   "codemirror_mode": {
    "name": "ipython",
    "version": 3
   },
   "file_extension": ".py",
   "mimetype": "text/x-python",
   "name": "python",
   "nbconvert_exporter": "python",
   "pygments_lexer": "ipython3",
   "version": "3.7.4"
  }
 },
 "nbformat": 4,
 "nbformat_minor": 2
}
